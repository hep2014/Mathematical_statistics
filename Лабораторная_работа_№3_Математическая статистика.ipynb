{
  "nbformat": 4,
  "nbformat_minor": 0,
  "metadata": {
    "colab": {
      "provenance": []
    },
    "kernelspec": {
      "name": "python3",
      "display_name": "Python 3"
    },
    "language_info": {
      "name": "python"
    }
  },
  "cells": [
    {
      "cell_type": "markdown",
      "source": [
        "# Задача\n",
        "\n",
        "\n",
        "---\n",
        "\n",
        "С помощью критерия Пирсона (хи-квадрат), проверить гипотезу, что случайная выборка, имеет экспоненциальное распределение с параметром $\\lambda = 2.17$. Взять равномерную сетку из $10$ интервалов и уровень значимости $\\epsilon = 0.05$.\n",
        "\n",
        "\n",
        "\n",
        "---\n",
        "\n",
        "# Теоретические положения\n",
        "\n",
        "\n",
        "\n",
        "---\n",
        "\n",
        "Гипотеза $H_0$ - выборка распределена по экспоненциальному закону. Гипотеза $H_1$ - выборка распределена не по экспоненциальному закону, а по какому-то иному закону:\n",
        "$$\n",
        "\\begin{gathered}\n",
        "H_0 \\sim Exp(\\lambda) \\\\\n",
        "H_1 \\neq  Exp(\\lambda)\n",
        "\\end{gathered}\n",
        "$$\n",
        "Пусть $n_i$ - это частота попадания элемента из выборки в интервал $\\Delta_i$. Пусть далее $p_i$ - это вероятность попадания элемента в интервал."
      ],
      "metadata": {
        "id": "v7bzbkbc7Bo3"
      }
    },
    {
      "cell_type": "code",
      "source": [
        "import math"
      ],
      "metadata": {
        "id": "kpJKRiZ5O22f"
      },
      "execution_count": null,
      "outputs": []
    },
    {
      "cell_type": "code",
      "execution_count": null,
      "metadata": {
        "id": "hvG8vgUO6-eW"
      },
      "outputs": [],
      "source": [
        "'''\n",
        "            Установка параметров\n",
        "'''\n",
        "lambda1 = 2.17\n",
        "epsilon = 0.05\n",
        "x = [0.17, 0.29, 0.86, 0.12, 3.06, 0.12, 0.41, 0.11, 0.71, 0.72, 1.01, 0.27, 0.11, 2.65, 0.16,\n",
        "        0.64, 0.26, 0.77, 0.01, 0.62, 0.13, 0.45, 1.11, 1.28, 0.63, 0.11, 0.45, 0.26, 1.45, 0.04,\n",
        "        0.08, 0.61, 0.52, 0.25, 0.02, 1.14, 1.38, 0.48, 0.3, 0.02, 0.1, 0.65, 0.3, 0.27, 0.03, 0.01,\n",
        "        0.25, 0.46, 0.77, 0.62, 0.19, 1.36, 1.96, 0.03, 0.04, 0.49, 0.42, 0.5, 0.11, 0.09, 0.1, 0.75,\n",
        "        0.09, 0.68, 0.45, 0.12, 0.09, 1.58, 0.27, 0.27, 0.62, 0.65, 0.75, 1.23, 0.36, 0.08, 0.24, 1.02,\n",
        "        0.08, 0.59, 0.29, 0.54, 0.51, 0.47, 0.36, 0.54, 0.57, 0.01, 0.06, 0.0, 0.28, 0.1, 0.56, 0.23,0.45,\n",
        "        0.17, 0.92, 0.29, 0.68, 2.21]"
      ]
    },
    {
      "cell_type": "markdown",
      "source": [
        "**1 шаг**: Найдем максимум и минимум в данной выборке"
      ],
      "metadata": {
        "id": "BxXCTXLv_JXB"
      }
    },
    {
      "cell_type": "code",
      "source": [
        "max_x = max(x)\n",
        "min_x = min(x)\n",
        "print(f\"Максимум: {max_x}\\nМинимум: {min_x}\")"
      ],
      "metadata": {
        "colab": {
          "base_uri": "https://localhost:8080/"
        },
        "id": "LYQpMYUV_ONh",
        "outputId": "dff05ace-e349-469b-f005-9de59dbb7655"
      },
      "execution_count": null,
      "outputs": [
        {
          "output_type": "stream",
          "name": "stdout",
          "text": [
            "Максимум: 3.06\n",
            "Минимум: 0.0\n"
          ]
        }
      ]
    },
    {
      "cell_type": "markdown",
      "source": [
        "**2 шаг**: разобьём выборку на 10 непересекающихся частей"
      ],
      "metadata": {
        "id": "EV8lTgnJB5N5"
      }
    },
    {
      "cell_type": "code",
      "source": [
        "delta = (max_x - min_x) / 10\n",
        "intervals_borders = [0]\n",
        "border = 0\n",
        "for i in range(10):\n",
        "  border = border + delta\n",
        "  intervals_borders.append(round(border,3))\n",
        "print(f\"Границы интервалов:\\n{intervals_borders}\")\n",
        "x.sort()\n",
        "j, border_counter = 0, 1\n",
        "intervals = [[] for i in range (10)]\n",
        "while (True):\n",
        "  if (j == 100):\n",
        "    break\n",
        "  if (x[j] < intervals_borders[border_counter]):\n",
        "    intervals[border_counter-1].append(x[j])\n",
        "    j += 1\n",
        "  elif (x[j] > intervals_borders[border_counter]):\n",
        "    intervals[border_counter].append(x[j])\n",
        "    j += 1\n",
        "    border_counter +=  1"
      ],
      "metadata": {
        "colab": {
          "base_uri": "https://localhost:8080/"
        },
        "id": "RJiEFo-AB_Lf",
        "outputId": "03bd0b67-58ee-42f4-d8d2-25704eb48e03"
      },
      "execution_count": null,
      "outputs": [
        {
          "output_type": "stream",
          "name": "stdout",
          "text": [
            "Границы интервалов:\n",
            "[0, 0.306, 0.612, 0.918, 1.224, 1.53, 1.836, 2.142, 2.448, 2.754, 3.06]\n"
          ]
        }
      ]
    },
    {
      "cell_type": "code",
      "source": [
        "print(\"Полученные интервалы:\")\n",
        "for i in range (len(intervals)):\n",
        "  print(intervals[i])"
      ],
      "metadata": {
        "colab": {
          "base_uri": "https://localhost:8080/"
        },
        "id": "QQjP6uTrNPd_",
        "outputId": "be64e2ec-c9b4-422a-bad8-31dba2c64d04"
      },
      "execution_count": null,
      "outputs": [
        {
          "output_type": "stream",
          "name": "stdout",
          "text": [
            "Полученные интервалы:\n",
            "[0.0, 0.01, 0.01, 0.01, 0.02, 0.02, 0.03, 0.03, 0.04, 0.04, 0.06, 0.08, 0.08, 0.08, 0.09, 0.09, 0.09, 0.1, 0.1, 0.1, 0.11, 0.11, 0.11, 0.11, 0.12, 0.12, 0.12, 0.13, 0.16, 0.17, 0.17, 0.19, 0.23, 0.24, 0.25, 0.25, 0.26, 0.26, 0.27, 0.27, 0.27, 0.27, 0.28, 0.29, 0.29, 0.29, 0.3, 0.3]\n",
            "[0.36, 0.36, 0.41, 0.42, 0.45, 0.45, 0.45, 0.45, 0.46, 0.47, 0.48, 0.49, 0.5, 0.51, 0.52, 0.54, 0.54, 0.56, 0.57, 0.59, 0.61]\n",
            "[0.62, 0.62, 0.62, 0.63, 0.64, 0.65, 0.65, 0.68, 0.68, 0.71, 0.72, 0.75, 0.75, 0.77, 0.77, 0.86]\n",
            "[0.92, 1.01, 1.02, 1.11, 1.14]\n",
            "[1.23, 1.28, 1.36, 1.38, 1.45]\n",
            "[1.58]\n",
            "[1.96]\n",
            "[2.21]\n",
            "[2.65]\n",
            "[3.06]\n"
          ]
        }
      ]
    },
    {
      "cell_type": "markdown",
      "source": [
        "**3 шаг**: Подсчитаем частоты $n_i$ и вероятности $p_i$."
      ],
      "metadata": {
        "id": "9VtpKwn8NwBU"
      }
    },
    {
      "cell_type": "markdown",
      "source": [
        "Будем считать вероятности $p_i$ по следующему принципу:\n",
        "$$\n",
        "p_i = F(b) - F(a)\n",
        "$$\n",
        "где $b$ - верхняя граница интервала, $a$ - нижняя граница интервала, $F(a), F(b)$ - значения функции распределения экспоненциального закона. Перепишем формулу:\n",
        "$$\n",
        "p_i = F(b) - F(a) = (1-e^{-\\lambda b}) - (1 - e^{-\\lambda a}) = e^{-\\lambda a} - e^{-\\lambda b}\n",
        "$$"
      ],
      "metadata": {
        "id": "IApFgP9oPvWR"
      }
    },
    {
      "cell_type": "code",
      "source": [
        "freq = []\n",
        "probabilty = []\n",
        "for i in range (len(intervals)):\n",
        "  temp_count = 0\n",
        "  for j in range (len(intervals[i])):\n",
        "    temp_count += 1\n",
        "  freq.append(temp_count)\n",
        "print(f\"Частоты n_i:\\n{freq}\")\n",
        "for i in range (len(intervals_borders)-1):\n",
        "  temp_p = math.exp(-lambda1 * intervals_borders[i]) - math.exp(-lambda1 * intervals_borders[i+1])\n",
        "  probabilty.append(round(temp_p,4))\n",
        "print(f\"Вероятности p_i:\\n{probabilty}\")"
      ],
      "metadata": {
        "colab": {
          "base_uri": "https://localhost:8080/"
        },
        "id": "MP_Z7w_TNzxE",
        "outputId": "128a7120-7fb1-4780-cd92-be5909412e14"
      },
      "execution_count": null,
      "outputs": [
        {
          "output_type": "stream",
          "name": "stdout",
          "text": [
            "Частоты n_i:\n",
            "[48, 21, 16, 5, 5, 1, 1, 1, 1, 1]\n",
            "Вероятности p_i:\n",
            "[0.4852, 0.2498, 0.1286, 0.0662, 0.0341, 0.0175, 0.009, 0.0046, 0.0024, 0.0012]\n"
          ]
        }
      ]
    },
    {
      "cell_type": "markdown",
      "source": [
        "**4 шаг**: Посчитаем критерий $\\chi^{2}$ по формуле:\n",
        "$$\n",
        "\\chi^{2} = \\sum_{i=1}^{10} \\frac{(n_i-Np_i)^{2}}{Np_i}\n",
        "$$\n",
        "где N - объём выборки (в случае моей выборки 100), $n_i$ - частоты, $p_i$ - вероятности"
      ],
      "metadata": {
        "id": "sFcqgamNXe_Z"
      }
    },
    {
      "cell_type": "code",
      "source": [
        "chi_square = 0\n",
        "for i in range (10):\n",
        "  temp_frac1 = (freq[i] - 100 * probabilty[i])**2\n",
        "  temp_frac2 = 100 * probabilty[i]\n",
        "  chi_square = chi_square + ((temp_frac1) / (temp_frac2))\n",
        "print(f\"Посчитанный Хи-квадрат: {chi_square}\")"
      ],
      "metadata": {
        "colab": {
          "base_uri": "https://localhost:8080/"
        },
        "id": "aTCtkE4xYErz",
        "outputId": "b51cb45b-fdad-4e3d-b570-2591d94755cf"
      },
      "execution_count": null,
      "outputs": [
        {
          "output_type": "stream",
          "name": "stdout",
          "text": [
            "Посчитанный Хи-квадрат: 12.370649731497975\n"
          ]
        }
      ]
    },
    {
      "cell_type": "markdown",
      "source": [
        "Далее, вернемся к теории. Мы получили $\\chi^{2}$ с $k-1$ степенями свободы и уровнем значимости $\\varepsilon = 0.05$. Найдём по таблице хи-квадрат критическое значение:\n",
        "$$\n",
        "\\chi^{2}_{0.05}(9) \\approx 16.92\n",
        "$$\n",
        "Иными словами, наша исходная выборка будет распределена по экспоненциальному закону (принимается гипотеза $H_0$), если $\\chi^{2}$ будет меньше критического значения."
      ],
      "metadata": {
        "id": "DhqJctaOd0Ee"
      }
    },
    {
      "cell_type": "code",
      "source": [
        "if (chi_square < 16.92):\n",
        "  print(f\"Гипотеза H_0 принимается\")\n",
        "else:\n",
        "  print(\"Гипотеза H_0 отклоняется\")"
      ],
      "metadata": {
        "colab": {
          "base_uri": "https://localhost:8080/"
        },
        "id": "twwUxwOpePxa",
        "outputId": "3f2c6351-8982-42bf-a447-bb3052931571"
      },
      "execution_count": null,
      "outputs": [
        {
          "output_type": "stream",
          "name": "stdout",
          "text": [
            "Гипотеза H_0 принимается\n"
          ]
        }
      ]
    }
  ]
}