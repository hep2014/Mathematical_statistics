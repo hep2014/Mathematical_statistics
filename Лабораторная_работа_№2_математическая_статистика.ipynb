{
  "nbformat": 4,
  "nbformat_minor": 0,
  "metadata": {
    "colab": {
      "provenance": []
    },
    "kernelspec": {
      "name": "python3",
      "display_name": "Python 3"
    },
    "language_info": {
      "name": "python"
    }
  },
  "cells": [
    {
      "cell_type": "markdown",
      "source": [
        "Задание:\n",
        "\n",
        "\n",
        "---\n",
        "Для распределения Пуассона по выборке:\n",
        "\n",
        "\n",
        "1.   Найти точечную оценку параметра $\\theta$ методом максимального правдоподобия\n",
        "2.   Построить доверительный интервал уровня доверия $\\alpha = 95$ %\n",
        "\n",
        "\n"
      ],
      "metadata": {
        "id": "o9ICJRZ45WMX"
      }
    },
    {
      "cell_type": "markdown",
      "source": [
        "Выборка:\n",
        "\n",
        "\n",
        "---\n",
        "\n",
        "11 , 10 , 9 , 8 , 5 , 4 , 8 , 9 , 6 , 4 ,\n",
        "6 , 9 , 4 , 8 , 9 , 6 , 6 , 8 , 8 , 6 , 7 ,\n",
        "13 , 6 , 8 , 9 , 6 , 10 , 7 , 6 , 8 , 8 ,\n",
        "12 , 15 , 11 , 11 , 9 , 19 , 8 , 8 , 8 ,\n",
        "8 , 7 , 8 , 10 , 13 , 7 , 11 , 9 , 9 , 9\n",
        "\n",
        "\n",
        "---\n",
        "\n"
      ],
      "metadata": {
        "id": "0IU6T1uh6N6d"
      }
    },
    {
      "cell_type": "code",
      "source": [
        "from math import sqrt"
      ],
      "metadata": {
        "id": "xWnkxRA_GVLG"
      },
      "execution_count": null,
      "outputs": []
    },
    {
      "cell_type": "code",
      "source": [
        "#инициализируем исходную выборку\n",
        "data_for_analysis = [11, 10, 9, 8, 5, 4, 8, 9, 6, 4, 6,\n",
        "                     9, 4, 8, 9, 6, 6, 8, 8, 6, 7, 13, 6, 8, 9, 6,\n",
        "                     10, 7, 6, 8, 8, 12, 15, 11,\n",
        "                     11, 9, 19, 8, 8, 8, 8, 7, 8, 10, 13, 7, 11, 9, 9, 9]"
      ],
      "metadata": {
        "id": "m3L2wxNT6Sit"
      },
      "execution_count": null,
      "outputs": []
    },
    {
      "cell_type": "markdown",
      "source": [
        "Напомним, как выглядит распределение Пуассона:\n",
        "пусть задана последовательность случайных величин:\n",
        "$$\n",
        "X = \\{0,1, 2, \\dots, m, \\dots \\}\n",
        "$$\n",
        "с вероятностями:\n",
        "$$\n",
        "P(X = m) = \\frac{a^m}{m!}e^{-a}, \\quad m \\in \\{0, 1, 2, \\dots\\}\n",
        "$$\n",
        "данная случайная величина имеет **распределение Пуассона**."
      ],
      "metadata": {
        "id": "K6ynGykP-pZe"
      }
    },
    {
      "cell_type": "markdown",
      "source": [
        "Используем метод максимального правдоподобия для нахождения точечной оценки параметра $\\theta = a$.\n",
        "Составим функцию правдоподобия:\n",
        "$$\n",
        "L(x, \\theta) = \\frac{\\theta^{x_1}}{x_1!}e^{-\\theta} \\cdot  \\frac{\\theta^{x_2}}{x_2!}e^{-\\theta} \\cdot \\dots \\cdot \\frac{\\theta^{x_n}}{x_n!}e^{-\\theta}\n",
        "$$\n",
        "Вынесем в произведении за скобки $e^{-\\theta}$:\n",
        "$$\n",
        "L(x, \\theta) = e^{-n \\theta} \\cdot (\\frac{\\theta^{x_1 + x_2 + \\dots + x_n}}{x_1!x_2!\\cdot\\dots\\cdot x_n!})\n",
        "$$\n",
        "Пусть $x_1 + x_2 + \\dots + x_n = S, \\quad x_1! \\cdot x_2! \\cdot \\dots \\cdot x_n!$:\n",
        "$$\n",
        "L(x, \\theta) = e^{-n\\theta} \\cdot \\frac{\\theta^S}{W}\n",
        "$$\n",
        "Заменим $L(x, \\theta)$ на $\\ln L(x, \\theta)$:\n",
        "$$\n",
        "\\ln L(x,\\theta) = \\ln(e)^{-n\\theta} + \\ln(\\theta)^S - \\ln(W)\n",
        "$$\n",
        "Применим свойства логарифма:\n",
        "$$\n",
        "\\ln L(x, \\theta) = -n \\theta + S \\ln(\\theta) - \\ln(W)\n",
        "$$\n",
        "Найдём производную от $\\ln L(x, \\theta)$:\n",
        "$$\n",
        "(\\ln L(x, \\theta))'_{\\theta} = -n + S \\cdot \\frac{1}{\\theta}\n",
        "$$\n",
        "Приравняем производную к 0:\n",
        "$$\n",
        "\\begin{gathered}\n",
        "-n+\\frac{S}{\\theta} = 0 \\\\\n",
        "\\frac{S}{\\theta} = n \\\\\n",
        "\\theta = \\frac{S}{n}\n",
        "\\end{gathered}\n",
        "$$\n",
        "Подставим $S = x_1 + x_2 + \\dots + x_n$:\n",
        "$$\n",
        "\\theta = \\frac{x_1 + x_2 + \\dots + x_n}{n}\n",
        "$$\n",
        "Тогда получаем, что:\n",
        "$$\n",
        "\\hat \\theta = \\overline X\n",
        "$$"
      ],
      "metadata": {
        "id": "1m0PsHfMA7PS"
      }
    },
    {
      "cell_type": "code",
      "source": [
        "#найдём оцененный параметр\n",
        "overline_x = 0\n",
        "for i in range (len(data_for_analysis)):\n",
        "  overline_x += data_for_analysis[i]\n",
        "overline_x = overline_x / len(data_for_analysis)\n",
        "print(f\"Среднее выборочное равно: {overline_x}\")"
      ],
      "metadata": {
        "colab": {
          "base_uri": "https://localhost:8080/"
        },
        "id": "thlvIS06CvVc",
        "outputId": "d02f15d7-7df3-4bc6-cb9a-9fd820bcabda"
      },
      "execution_count": null,
      "outputs": [
        {
          "output_type": "stream",
          "name": "stdout",
          "text": [
            "Среднее выборочное равно: 8.48\n"
          ]
        }
      ]
    },
    {
      "cell_type": "markdown",
      "source": [
        "Далее, найдем доверительный интервал уровня доверия $\\alpha = 95$% для распределения Пуассона.\n",
        "Уже доказано, что $\\hat \\theta = \\overline X$, тогда получим, что:\n",
        "$$\n",
        "\\overline X \\approx \\mathcal N(\\theta, \\frac{\\theta}{n})\n",
        "$$\n",
        "Тогда:\n",
        "$$\n",
        "\\frac{\\overline X - \\theta}{\\sqrt{\\frac{\\overline X}{n}}} \\approx \\mathcal N(0,1)\n",
        "$$\n",
        "Тогда по ЦПТ:\n",
        "$$\n",
        "P_{\\theta} (-c \\le \\frac{\\overline X - \\theta}{\\sqrt{\\frac{\\overline X}{n}}} \\le c) = \\Phi_0(c) + \\Phi_0(c) = 2 \\Phi_0 (c)\n",
        "$$\n",
        "Тогда, следуя определению доверительного интервала:\n",
        "$$\n",
        " P_{\\theta} (-\\theta \\le F(x) \\le \\theta) = \\epsilon\n",
        "$$\n",
        "Покажем:\n",
        "$$\n",
        "\\begin{gathered}\n",
        "2 \\Phi_0(c) = \\epsilon \\\\\n",
        "\\Phi_0(c) = \\frac{\\epsilon}{2}\n",
        "\\end{gathered}\n",
        "$$\n",
        "Получим, что $c$ - квантиль уровня доверия $\\frac{\\alpha}{2}$.\n",
        "Разрешим неравенство относительно $\\theta$:\n",
        "$$\n",
        "\\begin{gathered}\n",
        "-\\tau \\le \\frac{\\overline X - \\theta}{\\sqrt{\\frac{\\overline X}{n} } } \\le \\tau\n",
        "\\end{gathered}\n",
        "$$\n",
        "Тогда доверительный интервал уровня доверия $\\alpha = 95$% равен:\n",
        "$$\n",
        "(\\theta^-; \\theta^+) = (\\overline X - \\tau_{\\frac{\\alpha}{2}}\\cdot \\sqrt{\\frac{\\overline X}{n}}, \\overline X + \\tau_{\\frac{\\alpha}{2}}\\cdot \\sqrt{\\frac{\\overline X}{n}})\n",
        "$$\n",
        "где $\\tau_{\\frac{\\alpha}{2}} = 1.96$ для уровня доверия $\\alpha = 95$%."
      ],
      "metadata": {
        "id": "IPl1knTGDvd6"
      }
    },
    {
      "cell_type": "code",
      "source": [
        "tau = 1.96\n",
        "n = len(data_for_analysis)\n",
        "left_theta, right_theta = ((-tau/sqrt(n) + sqrt((tau**2)/(n)+4*overline_x))/(2))**2, ((tau/sqrt(n) + sqrt((tau**2)/(n) +4*overline_x))/(2))**2\n",
        "print(f\"Доверительные интервалы равны: {left_theta}, {right_theta}\")"
      ],
      "metadata": {
        "colab": {
          "base_uri": "https://localhost:8080/"
        },
        "id": "a_BvOe_nGNoh",
        "outputId": "17a559ad-3abb-4e10-a169-ceeda467f4ab"
      },
      "execution_count": null,
      "outputs": [
        {
          "output_type": "stream",
          "name": "stdout",
          "text": [
            "Доверительные интервалы равны: 7.710324947546133, 9.32650705245387\n"
          ]
        }
      ]
    }
  ]
}