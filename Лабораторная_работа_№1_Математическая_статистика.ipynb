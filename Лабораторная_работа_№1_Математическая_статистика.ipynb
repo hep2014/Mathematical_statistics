{
  "nbformat": 4,
  "nbformat_minor": 0,
  "metadata": {
    "colab": {
      "provenance": []
    },
    "kernelspec": {
      "name": "python3",
      "display_name": "Python 3"
    },
    "language_info": {
      "name": "python"
    }
  },
  "cells": [
    {
      "cell_type": "markdown",
      "source": [
        "Дана выборка из 20 чисел: [2.28 3.36 3.2  2.83 2.52 3.08 2.69 3.27 2.25 2.   2.18 2.88 2.56 3.39 3.18 3.76 2.92 3.26 2.76 2.68]. Требуется проанализировать её: приблизить математическое ожидание и дисперсию, построить вариационный ряд и эмпирическую функцию распределения. Найти медиану."
      ],
      "metadata": {
        "id": "ekUOS1vB_1xE"
      }
    },
    {
      "cell_type": "markdown",
      "source": [
        "Для начала, загрузим необходимые библиотеки"
      ],
      "metadata": {
        "id": "HgS97orqAF3O"
      }
    },
    {
      "cell_type": "code",
      "execution_count": null,
      "metadata": {
        "id": "3KgZUrix_ySK"
      },
      "outputs": [],
      "source": [
        "import matplotlib.pyplot"
      ]
    },
    {
      "cell_type": "markdown",
      "source": [
        "После, обозначим саму выборку"
      ],
      "metadata": {
        "id": "_wWdc63FAJSd"
      }
    },
    {
      "cell_type": "code",
      "source": [
        "data = [2.28, 3.36, 3.2, 2.83, 2.52, 3.08, 2.69, 3.27, 2.25, 2, 2.18, 2.88, 2.56, 3.39, 3.18, 3.76, 2.92, 3.26, 2.76, 2.68]"
      ],
      "metadata": {
        "id": "55qriFHLALjC"
      },
      "execution_count": null,
      "outputs": []
    },
    {
      "cell_type": "markdown",
      "source": [
        "Первым шагом обработки данных станет построение вариационного ряда. Напомним определение"
      ],
      "metadata": {
        "id": "aH6CFwqXAOj1"
      }
    },
    {
      "cell_type": "markdown",
      "source": [
        "Пусть имеется выборка $X = (X_1, X_2, \\dots, X_n)$. Если элементы выборки упорядочить по возрастанию, то новый набор случайных величин, удовлетворяющий неравенствам: $X_{(1)} \\le X_{(2)} \\le \\dots \\le X_{(n)}$, называется <u>вариационным рядом</u>.\n",
        ">$X_{(1)} = min(X_1, X_2, \\dots, X_n), X_{(n)} = max(X_1, X_2, \\dots, X_n )$"
      ],
      "metadata": {
        "id": "T8X2gtvYAXdB"
      }
    },
    {
      "cell_type": "markdown",
      "source": [
        "В соответствии с данным определением, используем к данным встроенную функцию sort()"
      ],
      "metadata": {
        "id": "UafgtOtVAar3"
      }
    },
    {
      "cell_type": "code",
      "source": [
        "data.sort()\n",
        "print(data)"
      ],
      "metadata": {
        "colab": {
          "base_uri": "https://localhost:8080/"
        },
        "id": "IwxLxNQCAeZl",
        "outputId": "1f147b47-1e47-47d1-a4b3-f4a037f58ce5"
      },
      "execution_count": null,
      "outputs": [
        {
          "output_type": "stream",
          "name": "stdout",
          "text": [
            "[2, 2.18, 2.25, 2.28, 2.52, 2.56, 2.68, 2.69, 2.76, 2.83, 2.88, 2.92, 3.08, 3.18, 3.2, 3.26, 3.27, 3.36, 3.39, 3.76]\n"
          ]
        }
      ]
    },
    {
      "cell_type": "markdown",
      "source": [
        "Первым приближением для данного ряда станет выборочное среднее - которое приближает математическое ожидание. Формула выборочного среднего: $$\n",
        "\\overline X = \\frac{X_1+X_2+\\dots+X_n}{n} = \\frac{1}{n} \\sum_{i=1}^n X_i\n",
        "$$"
      ],
      "metadata": {
        "id": "TXvRE2XzA_Zv"
      }
    },
    {
      "cell_type": "code",
      "source": [
        "sample_mean = 0\n",
        "for i in range (len(data)):\n",
        "  sample_mean += data[i]\n",
        "sample_mean = sample_mean / len(data)\n",
        "print(f\"Выборочное среднее = {sample_mean}\")"
      ],
      "metadata": {
        "colab": {
          "base_uri": "https://localhost:8080/"
        },
        "id": "aSN-s5LRBMeT",
        "outputId": "d023c2bc-af44-4a5c-bfa9-6d71a2be9ca9"
      },
      "execution_count": null,
      "outputs": [
        {
          "output_type": "stream",
          "name": "stdout",
          "text": [
            "Выборочное среднее = 2.8525\n"
          ]
        }
      ]
    },
    {
      "cell_type": "markdown",
      "source": [
        "Следующим приближением станет приближение дисперсии. Для дисперсии существуют два приближения: а) Смещенная выборочная дисперсия: $$\n",
        "S^2 = \\frac{1}{n} \\sum_{i=1}^n (X_i - \\overline X)^2\n",
        "$$ б) Несмещенная выборочная дисперсия: $$\n",
        "S_0^2 = \\frac{1}{n-1} \\sum_{i=1}^n (X_i - \\overline X)^2\n",
        "$$"
      ],
      "metadata": {
        "id": "SdW6-jvLBxHt"
      }
    },
    {
      "cell_type": "code",
      "source": [
        "unbiased_sample_variance, biased_sample_variance = 0, 0\n",
        "for i in range (len(data)):\n",
        "  unbiased_sample_variance = unbiased_sample_variance + ((data[i] - sample_mean)**2)\n",
        "  biased_sample_variance = biased_sample_variance + ((data[i] - sample_mean)**2)\n",
        "unbiased_sample_variance = unbiased_sample_variance / (len(data)-1)\n",
        "biased_sample_variance = biased_sample_variance / (len(data))\n",
        "print(f\"Несмещенная выборочная дисперсия = {unbiased_sample_variance}\\nСмещённая выборочная дисперсия = {biased_sample_variance}\")"
      ],
      "metadata": {
        "colab": {
          "base_uri": "https://localhost:8080/"
        },
        "id": "w76YcKYFCCQh",
        "outputId": "f695d547-2735-4162-a72f-3f68b4dd4023"
      },
      "execution_count": null,
      "outputs": [
        {
          "output_type": "stream",
          "name": "stdout",
          "text": [
            "Несмещенная выборочная дисперсия = 0.21718815789473683\n",
            "Смещённая выборочная дисперсия = 0.20632875\n"
          ]
        }
      ]
    },
    {
      "cell_type": "markdown",
      "source": [
        "Далее, так как мы уже имеем вариационный ряд, мы можем найти медиану данного ряда. Для её нахождения воспользуемся тем фактом, что мы имеем чётное n, тогда формула будет иметь вид: $$med(X) = \\frac{X_{[n/2]} + X_{[n/2]+1}}{2}$$"
      ],
      "metadata": {
        "id": "rnBycMtnCxh3"
      }
    },
    {
      "cell_type": "code",
      "source": [
        "median = (data[len(data)//2 - 1] + data[len(data)//2]) / 2\n",
        "print(f\"Медиана = {median}\")"
      ],
      "metadata": {
        "colab": {
          "base_uri": "https://localhost:8080/"
        },
        "id": "JP1uzKv9DENW",
        "outputId": "d0c27536-b05d-4cb7-9064-317c5feddeb1"
      },
      "execution_count": null,
      "outputs": [
        {
          "output_type": "stream",
          "name": "stdout",
          "text": [
            "Медиана = 2.855\n"
          ]
        }
      ]
    },
    {
      "cell_type": "markdown",
      "source": [
        "Далее, построим гистограмму для данного ряда данных. Так как мы имеем n = 20, то для построения гистограммы будем использовать $\\sqrt(n) = \\sqrt(20) \\approx  4$ интервала."
      ],
      "metadata": {
        "id": "p6kK-FLvD4J1"
      }
    },
    {
      "cell_type": "code",
      "source": [
        "delta = (data[len(data)-1] - data[0]) / 4\n",
        "intervals = [data[0]]\n",
        "start_value = data[0]\n",
        "for i in range (4):\n",
        "  start_value = start_value + delta\n",
        "  intervals.append(start_value)\n",
        "counter = [0, 0, 0, 0]\n",
        "for i in range (len(data)):\n",
        "  if 2 <= data[i] < 2.44:\n",
        "    counter[0] += 1\n",
        "  elif 2.44 <= data[i] < 2.88:\n",
        "    counter[1] += 1\n",
        "  elif 2.88 <= data[i] < 3.32:\n",
        "    counter[2] += 1\n",
        "  elif 3.32 <= data[i] <= 3.76:\n",
        "    counter[3] += 1\n",
        "intervals_for_hist = [0,5,10,15]\n",
        "bar_width = 7\n",
        "matplotlib.pyplot.xticks(intervals_for_hist, [\"[2; 2,44)\", \"[2,44; 2,88)\", \"[2,88; 3,32)\", \"[3,32; 3,76]\"])\n",
        "matplotlib.pyplot.bar(intervals_for_hist, counter, bar_width)\n",
        "matplotlib.pyplot.show()"
      ],
      "metadata": {
        "colab": {
          "base_uri": "https://localhost:8080/",
          "height": 430
        },
        "id": "j72M1onqELbC",
        "outputId": "5166f552-ffb2-44b8-f128-da1552aa377e"
      },
      "execution_count": null,
      "outputs": [
        {
          "output_type": "display_data",
          "data": {
            "text/plain": [
              "<Figure size 640x480 with 1 Axes>"
            ],
            "image/png": "[encoded data removed]"
          },
          "metadata": {}
        }
      ]
    },
    {
      "cell_type": "markdown",
      "source": [
        "Далее, нам необходимо построить эмпирическую функцию распределения случайной величины - график."
      ],
      "metadata": {
        "id": "mQayuzRsmglD"
      }
    },
    {
      "cell_type": "code",
      "source": [
        "y_values = [(i + 1) / len(data) for i in range(len(data))]\n",
        "matplotlib.pyplot.step(data, y_values, where=\"post\")\n",
        "matplotlib.pyplot.xlabel(\"x\")\n",
        "matplotlib.pyplot.ylabel(\"F_n(x)\")\n",
        "matplotlib.pyplot.title(\"График эмпирической функции распределения\")\n",
        "matplotlib.pyplot.grid(True)\n",
        "matplotlib.pyplot.show()"
      ],
      "metadata": {
        "colab": {
          "base_uri": "https://localhost:8080/",
          "height": 472
        },
        "id": "JzZLWeZTnyPG",
        "outputId": "e8b7f60d-1dd2-4cdf-aa1c-ee0f5c7f0849"
      },
      "execution_count": null,
      "outputs": [
        {
          "output_type": "display_data",
          "data": {
            "text/plain": [
              "<Figure size 640x480 with 1 Axes>"
            ],
            "image/png": "[encoded data removed]"
          },
          "metadata": {}
        }
      ]
    },
    {
      "cell_type": "markdown",
      "source": [
        "**Окончательные результаты**"
      ],
      "metadata": {
        "id": "aUN-o6HaoIFX"
      }
    },
    {
      "cell_type": "code",
      "source": [
        "print(f\"Приближенное значение математического ожидания - выборочное среднее: {sample_mean}\\nПриближенное значение дисперсии - несмещенная выборочная дисперсия = {unbiased_sample_variance}, смещённая выборочная дисперсия = {biased_sample_variance}\\nВариационный ряд: {data}\\nМедиана = {median}\")"
      ],
      "metadata": {
        "colab": {
          "base_uri": "https://localhost:8080/"
        },
        "id": "lwWLVs-doLtK",
        "outputId": "35e8e9f8-c420-4c1e-a848-b481fbf7645b"
      },
      "execution_count": null,
      "outputs": [
        {
          "output_type": "stream",
          "name": "stdout",
          "text": [
            "Приближенное значение математического ожидания - выборочное среднее: 2.8525\n",
            "Приближенное значение дисперсии - несмещенная выборочная дисперсия = 0.21718815789473683, смещённая выборочная дисперсия = 0.20632875\n",
            "Вариационный ряд: [2, 2.18, 2.25, 2.28, 2.52, 2.56, 2.68, 2.69, 2.76, 2.83, 2.88, 2.92, 3.08, 3.18, 3.2, 3.26, 3.27, 3.36, 3.39, 3.76]\n",
            "Медиана = 2.855\n"
          ]
        }
      ]
    }
  ]
}